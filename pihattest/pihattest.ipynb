{
 "cells": [
  {
   "cell_type": "code",
   "execution_count": 2,
   "id": "a20fd01d",
   "metadata": {
    "scrolled": true
   },
   "outputs": [
    {
     "name": "stdout",
     "output_type": "stream",
     "text": [
      "Defaulting to user installation because normal site-packages is not writeable\n",
      "Requirement already satisfied: RPI.GPIO in /home/eyc14/.local/lib/python3.10/site-packages (0.7.1)\n",
      "Note: you may need to restart the kernel to use updated packages.\n"
     ]
    }
   ],
   "source": [
    "%pip install RPI.GPIO"
   ]
  },
  {
   "cell_type": "code",
   "execution_count": null,
   "id": "66a14888",
   "metadata": {},
   "outputs": [],
   "source": [
    "import RPi.GPIO as GPIO\n",
    "from .defines import *\n",
    "from time import sleep"
   ]
  },
  {
   "cell_type": "code",
   "execution_count": null,
   "id": "fd2e61dd",
   "metadata": {},
   "outputs": [],
   "source": [
    "\n",
    "LED_names={ \n",
    "  \"boot_RPi\" : 4,\n",
    "  \"shutdown_RPi\" : 3,\n",
    "  \"autonomous\" : 27,\n",
    "  \"collect_data\" : 2 \n",
    "}\n",
    "\n",
    "\n",
    "switch_names={ \n",
    "  \"thr_step\" : 9,\n",
    "  \"autonomous\" : 6,\n",
    "  \"collect_data\" : 11,\n",
    "}\n",
    "\n",
    "\n",
    "THR_STEPS = [1500, 1540, 1560, 1580, 1600, 1620]\n",
    "THR_CURRENT = THR_STEPS[0]\n",
    "THR_POS = 0\n",
    "\n",
    "SWITCH_ON=GPIO.LOW\n",
    "SWITCH_OFF=GPIO.HIGH\n",
    "\n",
    "LED_ON=GPIO.HIGH\n",
    "LED_OFF=GPIO.LOW\n"
   ]
  },
  {
   "cell_type": "markdown",
   "id": "46249fcc",
   "metadata": {},
   "source": [
    "# from https://github.com/fubarlabs/foocars/blob/main/cars/carservices/carservices/defines.py"
   ]
  },
  {
   "cell_type": "code",
   "execution_count": 1,
   "id": "94887212",
   "metadata": {},
   "outputs": [],
   "source": [
    "def callback_switch_thr_step(channel):\n",
    "    print(f\"thr_step: {GPIO.input(switch_names['thr_step'])}\")\n",
    "    for i in range(5):\n",
    "        GPIO.output(LED_names[\"boot_RPi\"], LED_ON)\n",
    "        sleep(.2)\n",
    "        GPIO.output(LED_names[\"boot_RPi\"], LED_OFF)\n",
    "        sleep(.2)\n",
    "    GPIO.output(LED_names[\"boot_RPi\"], LED_ON)\n",
    "def callback_switch_autonomous(channel):\n",
    "    print(f\"autonomous: {GPIO.input(switch_names['autonomous'])}\")\n",
    "    if GPIO.input(switch_names[\"autonomous\"])!=SWITCH_ON:\n",
    "        return \n",
    "    GPIO.output(LED_names[\"autonomous\"], LED_OFF)\n",
    "    sleep(1)\n",
    "    GPIO.output(LED_names[\"autonomous\"], LED_ON)\n",
    "\n",
    "                               \n",
    "\n",
    "def callback_switch_collect_data(channel):\n",
    "    print(f\"collect_data: {GPIO.input(switch_names['collect_data'])}\")\n",
    "    if GPIO.input(switch_names[\"collect_data\"])!=SWITCH_ON:\n",
    "        return \n",
    "    GPIO.output(LED_names[\"collect_data\"], LED_OFF)\n",
    "    sleep(1)\n",
    "    GPIO.output(LED_names[\"collect_data\"], LED_ON)\n",
    "\n",
    "\n",
    "def main():\n",
    "    print(\"PI Hat Tests\")\n",
    "\n",
    "    print(\"LEDS\")\n",
    "\n",
    "    print(LED_names)\n",
    "\n",
    "    print(\"switches and buttons\")\n",
    "\n",
    "    print(switch_names)\n",
    "\n",
    "\n",
    "    GPIO.setmode(GPIO.BCM)\n",
    "\n",
    "    for led in LED_names.values():\n",
    "        GPIO.setup(led, GPIO.OUT)\n",
    "        GPIO.output(led, LED_OFF)\n",
    "\n",
    "\n",
    "    print(\"Turn on Power Status LED\")\n",
    "    for i in range(5):\n",
    "        GPIO.output(LED_names[\"boot_RPi\"], LED_ON)\n",
    "        sleep(.5)\n",
    "        GPIO.output(LED_names[\"boot_RPi\"], LED_OFF)\n",
    "        sleep(.5)\n",
    "\n",
    "    GPIO.output(LED_names[\"boot_RPi\"], LED_ON)\n",
    "\n",
    "    print(\"Collect LED\")\n",
    "    for i in range(5):\n",
    "        GPIO.output(LED_names[\"collect_data\"], LED_ON)\n",
    "        sleep(.5)\n",
    "        GPIO.output(LED_names[\"collect_data\"], LED_OFF)\n",
    "        sleep(.5)\n",
    "\n",
    "    print(\"Auto Mode\")\n",
    "    for i in range(5):\n",
    "        GPIO.output(LED_names[\"autonomous\"], LED_ON)\n",
    "        sleep(.5)\n",
    "        GPIO.output(LED_names[\"autonomous\"], LED_OFF)\n",
    "        sleep(.5)\n",
    "\n",
    "    # Switch Testing\n",
    "\n",
    "    for switch in switch_names.values():\n",
    "        GPIO.setup(switch, GPIO.IN, pull_up_down=GPIO.PUD_UP)\n",
    "\n",
    "\n",
    "    GPIO.add_event_detect(switch_names[\"thr_step\"], GPIO.FALLING, callback=callback_switch_thr_step, bouncetime=50)\n",
    "    GPIO.add_event_detect(switch_names[\"autonomous\"], GPIO.BOTH, callback=callback_switch_autonomous, bouncetime=200)\n",
    "    GPIO.add_event_detect(switch_names[\"collect_data\"], GPIO.BOTH, callback=callback_switch_collect_data, bouncetime=50)\n",
    "\n",
    "\n",
    "    while True:\n",
    "        try:\n",
    "            message = input(\"Press enter to quit\\n\\n\") # Run until someone presses enter\n",
    "            break\n",
    "        finally:\n",
    "            print(\"EXIT\")\n",
    "            GPIO.cleanup() # Clean up"
   ]
  },
  {
   "cell_type": "code",
   "execution_count": null,
   "id": "225e191c",
   "metadata": {},
   "outputs": [],
   "source": [
    "if __name__ == \"__main__\":\n",
    "    main()"
   ]
  }
 ],
 "metadata": {
  "kernelspec": {
   "display_name": "Python 3.10.4 64-bit",
   "language": "python",
   "name": "python3"
  },
  "language_info": {
   "codemirror_mode": {
    "name": "ipython",
    "version": 3
   },
   "file_extension": ".py",
   "mimetype": "text/x-python",
   "name": "python",
   "nbconvert_exporter": "python",
   "pygments_lexer": "ipython3",
   "version": "3.10.4"
  },
  "vscode": {
   "interpreter": {
    "hash": "916dbcbb3f70747c44a77c7bcd40155683ae19c65e1c03b4aa3499c5328201f1"
   }
  }
 },
 "nbformat": 4,
 "nbformat_minor": 5
}
